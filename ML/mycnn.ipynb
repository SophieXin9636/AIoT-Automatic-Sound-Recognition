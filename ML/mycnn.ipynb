{
 "cells": [
  {
   "cell_type": "code",
   "execution_count": 1,
   "metadata": {},
   "outputs": [
    {
     "name": "stderr",
     "output_type": "stream",
     "text": [
      "Using TensorFlow backend.\n"
     ]
    }
   ],
   "source": [
    "from preprocess import *\n",
    "import keras\n",
    "import matplotlib.image as mpimg\n",
    "import matplotlib.pyplot as plt\n",
    "import numpy as np\n",
    "from keras.models import Sequential\n",
    "from keras.layers import Dense, Dropout, Flatten, Conv2D, MaxPooling2D\n",
    "from keras.utils import to_categorical\n",
    "from keras.models import load_model"
   ]
  },
  {
   "cell_type": "code",
   "execution_count": 2,
   "metadata": {},
   "outputs": [],
   "source": [
    "from keras import backend as K\n",
    "# 用GPU \n",
    "# K.tensorflow_backend._get_available_gpus()"
   ]
  },
  {
   "cell_type": "code",
   "execution_count": 3,
   "metadata": {},
   "outputs": [],
   "source": [
    "save_path = \"/home/ais3/Desktop/Linux/soundAnalysis/training_data/correct/cqt/np/\"\n",
    "def save_data_npy(filename):\n",
    "    cur_file = img_path + filename + extension\n",
    "    cqt_img = np.array(Image.open(cur_file).convert('L')) # Image.open(cur_file).convert('RGB')\n",
    "    cqt_img = np.expand_dims(cqt_img, axis=0)\n",
    "    #plt.imshow(cqt_img)\n",
    "    np.save(save_path + filename, cqt_img)\n",
    "    #print(cqt_img.shape)\n",
    "\n",
    "### one-hot encoding\n",
    "# Input: Folder Path\n",
    "# Output: Tuple (Label, Indices of the labels, one-hot encoded labels)\n",
    "def get_labels(path=save_path):\n",
    "    labels = os.listdir(path)\n",
    "    label_indices = np.arange(1, len(labels))\n",
    "    # to_categorical: one hot encoding\n",
    "    return labels, label_indices, to_categorical(label_indices)"
   ]
  },
  {
   "cell_type": "code",
   "execution_count": 4,
   "metadata": {},
   "outputs": [
    {
     "data": {
      "text/plain": [
       "'\\n# Load Image, and save to npy\\nfrom PIL import Image\\nextension = \".png\"\\nsave_path = \"/home/ais3/Desktop/Linux/soundAnalysis/training_data/correct/cqt/np/\"\\nimg_path = \"/home/ais3//Desktop/Linux/soundAnalysis/training_data/correct/cqt/\"\\nfor sec in range(1,30): # sec\\n    save_data_npy(\"1_\"+str(sec))\\n    \\n# Load Image, and save to npy\\nfrom PIL import Image\\nextension = \".png\"\\nsave_path = \"/home/ais3/Desktop/Linux/soundAnalysis/training_data/incorrect/cqt/np/\"\\nimg_path = \"/home/ais3//Desktop/Linux/soundAnalysis/training_data/incorrect/cqt/\"\\n\\nfor sec in range(1,30): # sec\\n    save_data_npy(\"2_\"+str(sec))\\n    '"
      ]
     },
     "execution_count": 4,
     "metadata": {},
     "output_type": "execute_result"
    }
   ],
   "source": [
    "\"\"\"\n",
    "# Load Image, and save to npy\n",
    "from PIL import Image\n",
    "extension = \".png\"\n",
    "save_path = \"/home/ais3/Desktop/Linux/soundAnalysis/training_data/correct/cqt/np/\"\n",
    "img_path = \"/home/ais3//Desktop/Linux/soundAnalysis/training_data/correct/cqt/\"\n",
    "for sec in range(1,30): # sec\n",
    "    save_data_npy(\"1_\"+str(sec))\n",
    "    \n",
    "# Load Image, and save to npy\n",
    "from PIL import Image\n",
    "extension = \".png\"\n",
    "save_path = \"/home/ais3/Desktop/Linux/soundAnalysis/training_data/incorrect/cqt/np/\"\n",
    "img_path = \"/home/ais3//Desktop/Linux/soundAnalysis/training_data/incorrect/cqt/\"\n",
    "\n",
    "for sec in range(1,30): # sec\n",
    "    save_data_npy(\"2_\"+str(sec))\n",
    "    \"\"\""
   ]
  },
  {
   "cell_type": "code",
   "execution_count": 5,
   "metadata": {},
   "outputs": [],
   "source": [
    "dict_labels = {\"incorrect\":0, \"correct\":1}\n",
    "num_data = 58\n",
    "\n",
    "save_path = \"/home/ais3/Desktop/Linux/soundAnalysis/training_data/correct/cqt/np/\"\n",
    "# Get available labels\n",
    "labels, indices, _ = get_labels(save_path)\n",
    "\n",
    "# Getting first arrays\n",
    "X = np.load(save_path + labels[0])\n",
    "y = np.zeros(X.shape[0])\n",
    "y[0] = 1"
   ]
  },
  {
   "cell_type": "code",
   "execution_count": 6,
   "metadata": {},
   "outputs": [
    {
     "name": "stdout",
     "output_type": "stream",
     "text": [
      "29 29\n"
     ]
    }
   ],
   "source": [
    "# Append all of the dataset into one single array, same goes for y\n",
    "for i, label in enumerate(labels[1:]):\n",
    "    x = np.load(save_path + label)\n",
    "    X = np.vstack((X, x))\n",
    "    y = np.append(y, np.full(x.shape[0], fill_value= dict_labels[\"correct\"]))\n",
    "print(X.shape[0], len(y))\n",
    "assert X.shape[0] == len(y)\n"
   ]
  },
  {
   "cell_type": "code",
   "execution_count": 7,
   "metadata": {},
   "outputs": [
    {
     "data": {
      "text/plain": [
       "(1, 360, 480)"
      ]
     },
     "execution_count": 7,
     "metadata": {},
     "output_type": "execute_result"
    }
   ],
   "source": [
    "x = np.load(save_path + labels[0])\n",
    "x.shape"
   ]
  },
  {
   "cell_type": "code",
   "execution_count": 8,
   "metadata": {},
   "outputs": [
    {
     "name": "stdout",
     "output_type": "stream",
     "text": [
      "58 58\n"
     ]
    }
   ],
   "source": [
    "save_path = \"/home/ais3/Desktop/Linux/soundAnalysis/training_data/incorrect/cqt/np/\"\n",
    "labels, indices, _ = get_labels(save_path)\n",
    "\n",
    "for i, label in enumerate(labels):\n",
    "    x = np.load(save_path + label)\n",
    "    X = np.vstack((X, x))\n",
    "    y = np.append(y, np.full(x.shape[0], fill_value= dict_labels[\"incorrect\"]))\n",
    "print(X.shape[0], len(y))\n",
    "assert X.shape[0] == len(y)"
   ]
  },
  {
   "cell_type": "code",
   "execution_count": 9,
   "metadata": {},
   "outputs": [],
   "source": [
    "# loading data\n",
    "X_train, X_test, y_train, y_test = train_test_split(X, y, test_size= (1 - 0.6), random_state=48, shuffle=True)\n",
    "X_train = X_train.reshape(X_train.shape[0], 360, 480, 1)\n",
    "X_test = X_test.reshape(X_test.shape[0], 360, 480, 1)\n",
    "\n",
    "# one-hot encoding\n",
    "y_train_hot = to_categorical(y_train)\n",
    "y_test_hot = to_categorical(y_test)"
   ]
  },
  {
   "cell_type": "code",
   "execution_count": 10,
   "metadata": {},
   "outputs": [
    {
     "data": {
      "text/plain": [
       "array([[0., 1.],\n",
       "       [0., 1.],\n",
       "       [0., 1.],\n",
       "       [0., 1.],\n",
       "       [0., 1.],\n",
       "       [1., 0.],\n",
       "       [0., 1.],\n",
       "       [0., 1.],\n",
       "       [0., 1.],\n",
       "       [1., 0.],\n",
       "       [0., 1.],\n",
       "       [0., 1.],\n",
       "       [1., 0.],\n",
       "       [1., 0.],\n",
       "       [1., 0.],\n",
       "       [0., 1.],\n",
       "       [1., 0.],\n",
       "       [0., 1.],\n",
       "       [0., 1.],\n",
       "       [0., 1.],\n",
       "       [1., 0.],\n",
       "       [1., 0.],\n",
       "       [1., 0.],\n",
       "       [1., 0.]], dtype=float32)"
      ]
     },
     "execution_count": 10,
     "metadata": {},
     "output_type": "execute_result"
    }
   ],
   "source": [
    "y_test_hot"
   ]
  },
  {
   "cell_type": "code",
   "execution_count": 11,
   "metadata": {},
   "outputs": [],
   "source": [
    "training_path = \"/home/ais3/Desktop/Linux/soundAnalysis/training_data/cqt/np/\"\n",
    "correct_path = \"/home/ais3/Desktop/Linux/soundAnalysis/training_data/correct/cqt/np/\"\n",
    "incorrect_path = \"/home/ais3/Desktop/Linux/soundAnalysis/training_data/incorrect/cqt/np\"\n",
    "\n"
   ]
  },
  {
   "cell_type": "code",
   "execution_count": null,
   "metadata": {},
   "outputs": [],
   "source": []
  },
  {
   "cell_type": "code",
   "execution_count": null,
   "metadata": {},
   "outputs": [
    {
     "name": "stdout",
     "output_type": "stream",
     "text": [
      "Train on 34 samples, validate on 24 samples\n",
      "Epoch 1/200\n"
     ]
    }
   ],
   "source": [
    "# create Sequential model\n",
    "model = Sequential()\n",
    "model.add(Conv2D(58, kernel_size=(2, 2), input_shape = (360,480,1), activation='relu'))\n",
    "model.add(MaxPooling2D(pool_size=(2, 2)))\n",
    "model.add(Dropout(0.25))\n",
    "# Flatten\n",
    "model.add(Flatten())\n",
    "# FNN layer: 128 output\n",
    "model.add(Dense(128, activation='relu'))\n",
    "model.add(Dropout(0.25))\n",
    "# Add output layer\n",
    "model.add(Dense(2, activation='softmax'))\n",
    "# Compile: choose loss function、optimize method\n",
    "model.compile(loss=keras.losses.categorical_crossentropy,\n",
    "              optimizer=keras.optimizers.Adadelta(),\n",
    "              metrics=['accuracy'])\n",
    "# training, 訓練過程會存在 train_history\n",
    "model.fit(X_train, y_train_hot, batch_size=100, epochs=200, verbose=1, validation_data=(X_test, y_test_hot))\n",
    "# 顯示損失函數、訓練成果(分數)\n",
    "score = model.evaluate(X_test, y_test_hot, verbose=1)\n",
    "print('Test loss:', score[0])\n",
    "print('Test accuracy:', score[1])"
   ]
  },
  {
   "cell_type": "code",
   "execution_count": null,
   "metadata": {},
   "outputs": [],
   "source": []
  }
 ],
 "metadata": {
  "kernelspec": {
   "display_name": "Python 3",
   "language": "python",
   "name": "python3"
  },
  "language_info": {
   "codemirror_mode": {
    "name": "ipython",
    "version": 3
   },
   "file_extension": ".py",
   "mimetype": "text/x-python",
   "name": "python",
   "nbconvert_exporter": "python",
   "pygments_lexer": "ipython3",
   "version": "3.6.9"
  }
 },
 "nbformat": 4,
 "nbformat_minor": 4
}
